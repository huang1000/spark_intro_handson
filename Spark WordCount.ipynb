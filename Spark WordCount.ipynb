{
 "cells": [
  {
   "cell_type": "code",
   "execution_count": 2,
   "metadata": {
    "collapsed": true
   },
   "outputs": [],
   "source": [
    "lines = sc.textFile(\"hdfs:/user/cloudera/words.txt\")"
   ]
  },
  {
   "cell_type": "code",
   "execution_count": 3,
   "metadata": {
    "collapsed": false
   },
   "outputs": [
    {
     "data": {
      "text/plain": [
       "pyspark.rdd.RDD"
      ]
     },
     "execution_count": 3,
     "metadata": {},
     "output_type": "execute_result"
    }
   ],
   "source": [
    "type(lines)"
   ]
  },
  {
   "cell_type": "code",
   "execution_count": 4,
   "metadata": {
    "collapsed": false
   },
   "outputs": [
    {
     "data": {
      "text/plain": [
       "124456"
      ]
     },
     "execution_count": 4,
     "metadata": {},
     "output_type": "execute_result"
    }
   ],
   "source": [
    "lines.count()"
   ]
  },
  {
   "cell_type": "code",
   "execution_count": 5,
   "metadata": {
    "collapsed": false
   },
   "outputs": [
    {
     "data": {
      "text/plain": [
       "['This is the 100th Etext file presented by Project Gutenberg, and',\n",
       " 'is presented in cooperation with World Library, Inc., from their',\n",
       " 'Library of the Future and Shakespeare CDROMS.  Project Gutenberg',\n",
       " 'often releases Etexts that are NOT placed in the Public Domain!!',\n",
       " '']"
      ]
     },
     "execution_count": 5,
     "metadata": {},
     "output_type": "execute_result"
    }
   ],
   "source": [
    "lines.take(5)"
   ]
  },
  {
   "cell_type": "markdown",
   "metadata": {},
   "source": [
    "# word count example "
   ]
  },
  {
   "cell_type": "code",
   "execution_count": 10,
   "metadata": {
    "collapsed": false
   },
   "outputs": [],
   "source": [
    "words = lines.flatMap(lambda line : line.split(\" \"))"
   ]
  },
  {
   "cell_type": "code",
   "execution_count": 11,
   "metadata": {
    "collapsed": false
   },
   "outputs": [
    {
     "data": {
      "text/plain": [
       "1418390"
      ]
     },
     "execution_count": 11,
     "metadata": {},
     "output_type": "execute_result"
    }
   ],
   "source": [
    "words.count()"
   ]
  },
  {
   "cell_type": "code",
   "execution_count": 12,
   "metadata": {
    "collapsed": true
   },
   "outputs": [],
   "source": [
    "tuples = words.map(lambda word : (word, 1))"
   ]
  },
  {
   "cell_type": "code",
   "execution_count": 13,
   "metadata": {
    "collapsed": true
   },
   "outputs": [],
   "source": [
    "counts = tuples.reduceByKey(lambda a, b: (a + b))"
   ]
  },
  {
   "cell_type": "code",
   "execution_count": 15,
   "metadata": {
    "collapsed": false
   },
   "outputs": [
    {
     "name": "stdout",
     "output_type": "stream",
     "text": [
      "Found 12 items\r\n",
      "drwxr-xr-x   - cloudera cloudera          0 2017-02-07 08:25 /user/cloudera/BAT_views.txt\r\n",
      "drwxr-xr-x   - cloudera cloudera          0 2017-02-06 01:55 /user/cloudera/input\r\n",
      "drwxr-xr-x   - cloudera cloudera          0 2017-02-07 00:57 /user/cloudera/input_join2\r\n",
      "drwxr-xr-x   - cloudera cloudera          0 2017-02-06 22:49 /user/cloudera/joining-data\r\n",
      "drwxr-xr-x   - cloudera cloudera          0 2017-02-06 01:58 /user/cloudera/output_join\r\n",
      "drwxr-xr-x   - cloudera cloudera          0 2017-02-07 01:21 /user/cloudera/output_join2\r\n",
      "drwxr-xr-x   - cloudera cloudera          0 2017-02-04 20:03 /user/cloudera/output_new\r\n",
      "drwxr-xr-x   - cloudera cloudera          0 2017-02-04 20:11 /user/cloudera/output_new_0\r\n",
      "drwxr-xr-x   - cloudera cloudera          0 2017-02-04 20:46 /user/cloudera/output_new_2\r\n",
      "-rw-r--r--   1 cloudera cloudera       2561 2017-01-25 00:22 /user/cloudera/passwd\r\n",
      "drwxr-xr-x   - cloudera cloudera          0 2017-01-25 00:31 /user/cloudera/userinfo.out\r\n",
      "-rw-r--r--   1 cloudera cloudera    5458199 2017-02-08 22:22 /user/cloudera/words.txt\r\n"
     ]
    }
   ],
   "source": [
    "!hadoop fs -ls /user/cloudera/"
   ]
  },
  {
   "cell_type": "code",
   "execution_count": 16,
   "metadata": {
    "collapsed": false
   },
   "outputs": [],
   "source": [
    "counts.coalesce(1).saveAsTextFile('hdfs:/user/cloudera/wordcount/outputDir')"
   ]
  },
  {
   "cell_type": "code",
   "execution_count": 18,
   "metadata": {
    "collapsed": false
   },
   "outputs": [
    {
     "name": "stdout",
     "output_type": "stream",
     "text": [
      "Found 13 items\r\n",
      "drwxr-xr-x   - cloudera cloudera          0 2017-02-07 08:25 /user/cloudera/BAT_views.txt\r\n",
      "drwxr-xr-x   - cloudera cloudera          0 2017-02-06 01:55 /user/cloudera/input\r\n",
      "drwxr-xr-x   - cloudera cloudera          0 2017-02-07 00:57 /user/cloudera/input_join2\r\n",
      "drwxr-xr-x   - cloudera cloudera          0 2017-02-06 22:49 /user/cloudera/joining-data\r\n",
      "drwxr-xr-x   - cloudera cloudera          0 2017-02-06 01:58 /user/cloudera/output_join\r\n",
      "drwxr-xr-x   - cloudera cloudera          0 2017-02-07 01:21 /user/cloudera/output_join2\r\n",
      "drwxr-xr-x   - cloudera cloudera          0 2017-02-04 20:03 /user/cloudera/output_new\r\n",
      "drwxr-xr-x   - cloudera cloudera          0 2017-02-04 20:11 /user/cloudera/output_new_0\r\n",
      "drwxr-xr-x   - cloudera cloudera          0 2017-02-04 20:46 /user/cloudera/output_new_2\r\n",
      "-rw-r--r--   1 cloudera cloudera       2561 2017-01-25 00:22 /user/cloudera/passwd\r\n",
      "drwxr-xr-x   - cloudera cloudera          0 2017-01-25 00:31 /user/cloudera/userinfo.out\r\n",
      "drwxr-xr-x   - cloudera cloudera          0 2017-02-17 00:33 /user/cloudera/wordcount\r\n",
      "-rw-r--r--   1 cloudera cloudera    5458199 2017-02-08 22:22 /user/cloudera/words.txt\r\n"
     ]
    }
   ],
   "source": [
    "!hadoop fs -ls /user/cloudera"
   ]
  },
  {
   "cell_type": "code",
   "execution_count": 20,
   "metadata": {
    "collapsed": false
   },
   "outputs": [
    {
     "name": "stdout",
     "output_type": "stream",
     "text": [
      "Found 2 items\r\n",
      "-rw-r--r--   1 cloudera cloudera          0 2017-02-17 00:33 /user/cloudera/wordcount/outputDir/_SUCCESS\r\n",
      "-rw-r--r--   1 cloudera cloudera    1055325 2017-02-17 00:33 /user/cloudera/wordcount/outputDir/part-00000\r\n"
     ]
    }
   ],
   "source": [
    "!hadoop fs -ls /user/cloudera/wordcount/outputDir"
   ]
  },
  {
   "cell_type": "code",
   "execution_count": 26,
   "metadata": {
    "collapsed": false
   },
   "outputs": [
    {
     "name": "stdout",
     "output_type": "stream",
     "text": [
      "('', 517065)\r\n",
      "('Quince', 1)\r\n",
      "('Corin,', 2)\r\n",
      "('Just', 10)\r\n",
      "('enrooted', 1)\r\n",
      "('divers', 20)\r\n",
      "('Doubtless', 2)\r\n",
      "('undistinguishable,', 1)\r\n",
      "('widowhood,', 1)\r\n",
      "('incorporate.', 1)\r\n",
      "cat: Unable to write to output stream.\r\n"
     ]
    }
   ],
   "source": [
    "!hadoop fs -cat /user/cloudera/wordcount/outputDir/part-00000 | head"
   ]
  },
  {
   "cell_type": "markdown",
   "metadata": {
    "collapsed": true
   },
   "source": [
    "# distributed grep example"
   ]
  },
  {
   "cell_type": "code",
   "execution_count": 9,
   "metadata": {
    "collapsed": false
   },
   "outputs": [
    {
     "data": {
      "text/plain": [
       "45"
      ]
     },
     "execution_count": 9,
     "metadata": {},
     "output_type": "execute_result"
    }
   ],
   "source": [
    "lines2 = lines.filter(lambda line: \"Shakespeare\" in line)\n",
    "lines2.count()"
   ]
  },
  {
   "cell_type": "code",
   "execution_count": 27,
   "metadata": {
    "collapsed": false
   },
   "outputs": [
    {
     "data": {
      "text/plain": [
       "['Library of the Future and Shakespeare CDROMS.  Project Gutenberg',\n",
       " 'Shakespeare',\n",
       " 'in the presentation of The Complete Works of William Shakespeare',\n",
       " 'The Complete Works of William Shakespeare ',\n",
       " 'The Library of the Future Complete Works of William Shakespeare ',\n",
       " 'Please give them our thanks for their Shakespeare cooperation!',\n",
       " 'by William Shakespeare',\n",
       " 'by William Shakespeare',\n",
       " 'by William Shakespeare',\n",
       " 'by William Shakespeare',\n",
       " 'by William Shakespeare',\n",
       " 'by William Shakespeare',\n",
       " 'by William Shakespeare',\n",
       " 'by William Shakespeare',\n",
       " 'by William Shakespeare',\n",
       " 'by William Shakespeare',\n",
       " 'by William Shakespeare',\n",
       " 'by William Shakespeare',\n",
       " 'by William Shakespeare',\n",
       " 'by William Shakespeare',\n",
       " 'by William Shakespeare',\n",
       " 'by William Shakespeare',\n",
       " 'by William Shakespeare',\n",
       " 'by William Shakespeare',\n",
       " 'by William Shakespeare',\n",
       " 'by William Shakespeare',\n",
       " 'by William Shakespeare',\n",
       " 'by William Shakespeare',\n",
       " 'by William Shakespeare',\n",
       " 'by William Shakespeare',\n",
       " 'by William Shakespeare',\n",
       " 'by William Shakespeare',\n",
       " 'by William Shakespeare',\n",
       " 'by William Shakespeare',\n",
       " 'by William Shakespeare',\n",
       " 'by William Shakespeare',\n",
       " 'by William Shakespeare',\n",
       " 'by William Shakespeare',\n",
       " 'by William Shakespeare',\n",
       " 'by William Shakespeare',\n",
       " 'by William Shakespeare',\n",
       " 'by William Shakespeare',\n",
       " 'by William Shakespeare',\n",
       " 'by William Shakespeare',\n",
       " 'End of this Etext of The Complete Works of William Shakespeare']"
      ]
     },
     "execution_count": 27,
     "metadata": {},
     "output_type": "execute_result"
    }
   ],
   "source": [
    "lines2.collect()"
   ]
  },
  {
   "cell_type": "code",
   "execution_count": null,
   "metadata": {
    "collapsed": true
   },
   "outputs": [],
   "source": []
  }
 ],
 "metadata": {
  "kernelspec": {
   "display_name": "Python 3",
   "language": "python",
   "name": "python3"
  },
  "language_info": {
   "codemirror_mode": {
    "name": "ipython",
    "version": 3
   },
   "file_extension": ".py",
   "mimetype": "text/x-python",
   "name": "python",
   "nbconvert_exporter": "python",
   "pygments_lexer": "ipython3",
   "version": "3.5.1"
  }
 },
 "nbformat": 4,
 "nbformat_minor": 0
}
