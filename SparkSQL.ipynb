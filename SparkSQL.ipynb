{
 "cells": [
  {
   "cell_type": "code",
   "execution_count": 2,
   "metadata": {
    "collapsed": true
   },
   "outputs": [],
   "source": [
    "from pyspark.sql import SQLContext\n",
    "from pyspark.sql.functions import *\n",
    "\n",
    "sqlsc = SQLContext(sc)"
   ]
  },
  {
   "cell_type": "markdown",
   "metadata": {},
   "source": [
    "## Create a DataFrame"
   ]
  },
  {
   "cell_type": "code",
   "execution_count": 3,
   "metadata": {
    "collapsed": false
   },
   "outputs": [],
   "source": [
    "df = sqlsc.read.format(\"jdbc\") \\\n",
    "  .option(\"url\", \"jdbc:postgresql://localhost/cloudera?user=cloudera\") \\\n",
    "  .option(\"dbtable\", \"gameclicks\") \\\n",
    "  .load()"
   ]
  },
  {
   "cell_type": "markdown",
   "metadata": {},
   "source": [
    "## DataFrames are just like tables"
   ]
  },
  {
   "cell_type": "code",
   "execution_count": 11,
   "metadata": {
    "collapsed": false
   },
   "outputs": [
    {
     "name": "stdout",
     "output_type": "stream",
     "text": [
      "+--------------------+-------+------+-------------+-----+------+---------+\n",
      "|           timestamp|clickid|userid|usersessionid|ishit|teamid|teamlevel|\n",
      "+--------------------+-------+------+-------------+-----+------+---------+\n",
      "|2016-05-26 15:06:...|    105|  1038|         5916|    0|    25|        1|\n",
      "|2016-05-26 15:07:...|    154|  1099|         5898|    0|    44|        1|\n",
      "|2016-05-26 15:07:...|    229|   899|         5757|    0|    71|        1|\n",
      "|2016-05-26 15:07:...|    322|  2197|         5854|    0|    99|        1|\n",
      "|2016-05-26 15:07:...|     22|  1362|         5739|    0|    13|        1|\n",
      "+--------------------+-------+------+-------------+-----+------+---------+\n",
      "only showing top 5 rows\n",
      "\n"
     ]
    }
   ],
   "source": [
    "df.show(5)"
   ]
  },
  {
   "cell_type": "code",
   "execution_count": 5,
   "metadata": {
    "collapsed": false,
    "scrolled": true
   },
   "outputs": [
    {
     "name": "stdout",
     "output_type": "stream",
     "text": [
      "root\n",
      " |-- timestamp: timestamp (nullable = false)\n",
      " |-- clickid: integer (nullable = false)\n",
      " |-- userid: integer (nullable = false)\n",
      " |-- usersessionid: integer (nullable = false)\n",
      " |-- ishit: integer (nullable = false)\n",
      " |-- teamid: integer (nullable = false)\n",
      " |-- teamlevel: integer (nullable = false)\n",
      "\n"
     ]
    }
   ],
   "source": [
    "df.printSchema()"
   ]
  },
  {
   "cell_type": "code",
   "execution_count": 6,
   "metadata": {
    "collapsed": false
   },
   "outputs": [
    {
     "data": {
      "text/plain": [
       "755806"
      ]
     },
     "execution_count": 6,
     "metadata": {},
     "output_type": "execute_result"
    }
   ],
   "source": [
    "df.count()"
   ]
  },
  {
   "cell_type": "markdown",
   "metadata": {},
   "source": [
    "### select and filter"
   ]
  },
  {
   "cell_type": "code",
   "execution_count": 10,
   "metadata": {
    "collapsed": false
   },
   "outputs": [
    {
     "name": "stdout",
     "output_type": "stream",
     "text": [
      "+--------------------+-------+\n",
      "|           timestamp|clickid|\n",
      "+--------------------+-------+\n",
      "|2016-05-26 15:06:...|    105|\n",
      "|2016-05-26 15:07:...|    154|\n",
      "|2016-05-26 15:07:...|    229|\n",
      "|2016-05-26 15:07:...|    322|\n",
      "|2016-05-26 15:07:...|     22|\n",
      "+--------------------+-------+\n",
      "only showing top 5 rows\n",
      "\n"
     ]
    }
   ],
   "source": [
    "df.select(['timestamp','clickid']).show(5)"
   ]
  },
  {
   "cell_type": "code",
   "execution_count": 14,
   "metadata": {
    "collapsed": false
   },
   "outputs": [
    {
     "name": "stdout",
     "output_type": "stream",
     "text": [
      "+--------------------+-------+------+\n",
      "|           timestamp|clickid|userid|\n",
      "+--------------------+-------+------+\n",
      "|2016-05-26 15:19:...|    326|     1|\n",
      "|2016-05-26 15:29:...|    329|     1|\n",
      "|2016-05-26 16:13:...|   1253|     1|\n",
      "|2016-05-26 16:18:...|   1256|     1|\n",
      "|2016-05-26 16:23:...|   1258|     1|\n",
      "+--------------------+-------+------+\n",
      "only showing top 5 rows\n",
      "\n"
     ]
    }
   ],
   "source": [
    "df.filter(df['userid']==1).select(['timestamp','clickid','userid']).show(5)"
   ]
  },
  {
   "cell_type": "markdown",
   "metadata": {},
   "source": [
    "### groupby"
   ]
  },
  {
   "cell_type": "code",
   "execution_count": 9,
   "metadata": {
    "collapsed": false
   },
   "outputs": [
    {
     "name": "stdout",
     "output_type": "stream",
     "text": [
      "+-----+------+\n",
      "|ishit| count|\n",
      "+-----+------+\n",
      "|    0|672423|\n",
      "|    1| 83383|\n",
      "+-----+------+\n",
      "\n"
     ]
    }
   ],
   "source": [
    "df.groupBy(\"ishit\").count().show()"
   ]
  },
  {
   "cell_type": "markdown",
   "metadata": {},
   "source": [
    "### join with other DataFrames"
   ]
  },
  {
   "cell_type": "code",
   "execution_count": 11,
   "metadata": {
    "collapsed": true
   },
   "outputs": [],
   "source": [
    "df2 = sqlsc.read.format(\"jdbc\") \\\n",
    "  .option(\"url\", \"jdbc:postgresql://localhost/cloudera?user=cloudera\") \\\n",
    "  .option(\"dbtable\", \"adclicks\") \\\n",
    "  .load()"
   ]
  },
  {
   "cell_type": "code",
   "execution_count": 12,
   "metadata": {
    "collapsed": false
   },
   "outputs": [
    {
     "name": "stdout",
     "output_type": "stream",
     "text": [
      "root\n",
      " |-- timestamp: timestamp (nullable = false)\n",
      " |-- txid: integer (nullable = false)\n",
      " |-- usersessionid: integer (nullable = false)\n",
      " |-- teamid: integer (nullable = false)\n",
      " |-- userid: integer (nullable = false)\n",
      " |-- adid: integer (nullable = false)\n",
      " |-- adcategory: string (nullable = false)\n",
      "\n"
     ]
    }
   ],
   "source": [
    "df2.printSchema()"
   ]
  },
  {
   "cell_type": "code",
   "execution_count": 13,
   "metadata": {
    "collapsed": true
   },
   "outputs": [],
   "source": [
    "merge = df.join(df2, 'userid')"
   ]
  },
  {
   "cell_type": "code",
   "execution_count": 14,
   "metadata": {
    "collapsed": false,
    "scrolled": true
   },
   "outputs": [
    {
     "name": "stdout",
     "output_type": "stream",
     "text": [
      "root\n",
      " |-- userid: integer (nullable = false)\n",
      " |-- timestamp: timestamp (nullable = false)\n",
      " |-- clickid: integer (nullable = false)\n",
      " |-- usersessionid: integer (nullable = false)\n",
      " |-- ishit: integer (nullable = false)\n",
      " |-- teamid: integer (nullable = false)\n",
      " |-- teamlevel: integer (nullable = false)\n",
      " |-- timestamp: timestamp (nullable = false)\n",
      " |-- txid: integer (nullable = false)\n",
      " |-- usersessionid: integer (nullable = false)\n",
      " |-- teamid: integer (nullable = false)\n",
      " |-- adid: integer (nullable = false)\n",
      " |-- adcategory: string (nullable = false)\n",
      "\n"
     ]
    }
   ],
   "source": [
    "merge.printSchema()"
   ]
  },
  {
   "cell_type": "code",
   "execution_count": 15,
   "metadata": {
    "collapsed": false
   },
   "outputs": [
    {
     "name": "stdout",
     "output_type": "stream",
     "text": [
      "+------+--------------------+-------+-------------+-----+------+---------+--------------------+-----+-------------+------+----+----------+\n",
      "|userid|           timestamp|clickid|usersessionid|ishit|teamid|teamlevel|           timestamp| txid|usersessionid|teamid|adid|adcategory|\n",
      "+------+--------------------+-------+-------------+-----+------+---------+--------------------+-----+-------------+------+----+----------+\n",
      "|   231|2016-06-08 00:45:...| 376796|        23626|    0|   142|        4|2016-06-08 01:40:...|23669|        23626|   142|  27|     games|\n",
      "|   231|2016-06-08 00:45:...| 376796|        23626|    0|   142|        4|2016-06-08 09:24:...|24122|        23626|   142|   4|     games|\n",
      "|   231|2016-06-08 00:45:...| 376796|        23626|    0|   142|        4|2016-06-08 17:21:...|24659|        23626|   142|  22| computers|\n",
      "|   231|2016-06-08 00:45:...| 376796|        23626|    0|   142|        4|2016-06-08 23:34:...|25076|        23626|   142|  21|    movies|\n",
      "|   231|2016-06-08 00:45:...| 376796|        23626|    0|   142|        4|2016-06-09 16:32:...|26220|        23626|   142|  16|  clothing|\n",
      "+------+--------------------+-------+-------------+-----+------+---------+--------------------+-----+-------------+------+----+----------+\n",
      "only showing top 5 rows\n",
      "\n"
     ]
    }
   ],
   "source": [
    "merge.show(5)"
   ]
  },
  {
   "cell_type": "markdown",
   "metadata": {
    "collapsed": true
   },
   "source": [
    "## Running SQL Queries"
   ]
  },
  {
   "cell_type": "code",
   "execution_count": 37,
   "metadata": {
    "collapsed": false
   },
   "outputs": [
    {
     "name": "stdout",
     "output_type": "stream",
     "text": [
      "+--------------------+-------+------+-------------+-----+------+---------+\n",
      "|           timestamp|clickid|userid|usersessionid|ishit|teamid|teamlevel|\n",
      "+--------------------+-------+------+-------------+-----+------+---------+\n",
      "|2016-05-26 15:19:...|    326|     1|         5835|    0|    99|        1|\n",
      "|2016-05-26 15:29:...|    329|     1|         5835|    0|    99|        1|\n",
      "+--------------------+-------+------+-------------+-----+------+---------+\n",
      "\n"
     ]
    }
   ],
   "source": [
    "# for Spark 2.*\n",
    "# df.createOrReplaceTempView('table')\n",
    "# for Spark 1.6\n",
    "df.registerTempTable('sqltable')\n",
    "sqlsc.sql(\"SELECT * FROM sqltable WHERE ishit=0 AND userid=1 AND clickid<500\").show()"
   ]
  },
  {
   "cell_type": "code",
   "execution_count": null,
   "metadata": {
    "collapsed": true
   },
   "outputs": [],
   "source": []
  }
 ],
 "metadata": {
  "kernelspec": {
   "display_name": "Python 3",
   "language": "python",
   "name": "python3"
  },
  "language_info": {
   "codemirror_mode": {
    "name": "ipython",
    "version": 3
   },
   "file_extension": ".py",
   "mimetype": "text/x-python",
   "name": "python",
   "nbconvert_exporter": "python",
   "pygments_lexer": "ipython3",
   "version": "3.5.1"
  }
 },
 "nbformat": 4,
 "nbformat_minor": 0
}
